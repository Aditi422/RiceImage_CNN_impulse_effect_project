{
 "cells": [
  {
   "cell_type": "code",
   "execution_count": 1,
   "metadata": {},
   "outputs": [],
   "source": [
    "import cv2\n",
    "import numpy as np\n",
    "import os"
   ]
  },
  {
   "cell_type": "code",
   "execution_count": 3,
   "metadata": {},
   "outputs": [],
   "source": [
    "# Function to add impulse noise to an image\n",
    "def add_impulse_noise(image, p, salt_intensity=50):\n",
    "    noisy_image = np.copy(image)\n",
    "    mask = np.random.random(image.shape[:2])\n",
    "    mask = np.clip(mask, 0, 1)\n",
    "\n",
    "    for i in range(image.shape[2]):\n",
    "        pepper_mask = mask < p / 2\n",
    "        salt_mask = (p / 2 <= mask) & (mask < p)\n",
    "\n",
    "        noisy_image[:, :, i][pepper_mask] = 0\n",
    "        noisy_image[:, :, i][salt_mask] = salt_intensity\n",
    "\n",
    "    return noisy_image"
   ]
  },
  {
   "cell_type": "code",
   "execution_count": 4,
   "metadata": {},
   "outputs": [],
   "source": [
    "# Function to process a dataset with impulse noise\n",
    "def process_dataset_impulse_noise(input_folder, output_folder, p, salt_intensity=50):\n",
    "    os.makedirs(output_folder, exist_ok=True)\n",
    "    for class_folder in os.listdir(input_folder):\n",
    "        class_path = os.path.join(input_folder, class_folder)\n",
    "        output_class_path = os.path.join(output_folder, class_folder)\n",
    "        os.makedirs(output_class_path, exist_ok=True)\n",
    "\n",
    "        for file_name in os.listdir(class_path):\n",
    "            image_path = os.path.join(class_path, file_name)\n",
    "            output_path = os.path.join(output_class_path, file_name)\n",
    "\n",
    "            image = cv2.imread(image_path)\n",
    "            noisy_image = add_impulse_noise(image, p, salt_intensity)\n",
    "            cv2.imwrite(output_path, noisy_image)\n"
   ]
  },
  {
   "cell_type": "code",
   "execution_count": 8,
   "metadata": {},
   "outputs": [],
   "source": [
    "# Example usage\n",
    "input_dataset_folder = 'Rice_Image_Dataset'\n",
    "output_dataset_folder = 'Filtered_Image_Dataset'\n"
   ]
  },
  {
   "cell_type": "code",
   "execution_count": 9,
   "metadata": {},
   "outputs": [],
   "source": [
    "# Set the probability of impulse noise (p) and salt intensity\n",
    "p = 0.02\n",
    "salt_intensity = 50"
   ]
  },
  {
   "cell_type": "code",
   "execution_count": 10,
   "metadata": {},
   "outputs": [],
   "source": [
    "process_dataset_impulse_noise(input_dataset_folder, output_dataset_folder, p, salt_intensity)\n"
   ]
  },
  {
   "cell_type": "code",
   "execution_count": null,
   "metadata": {},
   "outputs": [],
   "source": []
  }
 ],
 "metadata": {
  "kernelspec": {
   "display_name": "Python 3",
   "language": "python",
   "name": "python3"
  },
  "language_info": {
   "codemirror_mode": {
    "name": "ipython",
    "version": 3
   },
   "file_extension": ".py",
   "mimetype": "text/x-python",
   "name": "python",
   "nbconvert_exporter": "python",
   "pygments_lexer": "ipython3",
   "version": "3.11.7"
  }
 },
 "nbformat": 4,
 "nbformat_minor": 2
}
